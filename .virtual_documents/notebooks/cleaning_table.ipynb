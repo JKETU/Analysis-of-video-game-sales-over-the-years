import pandas as pd
import numpy as np


df = pd.read_csv('../data/raw/all_games.csv')
df_2 = pd.read_csv('../data/raw/video_games_sales.csv')


display(df.head(2), df_2.head(2), df.info(), df_2.info(), df.nunique(), df_2.nunique())


# drop columns

def drop_columns_in_table_1(df):
    df = df.drop(columns=['summary'])
    return df

def drop_columns_in_table_2(df_2):
    df = df_2.drop(columns=['rank'])
    return df 


updated_df = drop_columns_in_table_1(df)
updated_df_2 = drop_columns_in_table_2(df_2)

display(updated_df, updated_df_2)


display(updated_df['platform'].unique())
display(updated_df_2['platform'].unique())


def new_platform_column(updated_df):
    platform_mapping = {'Nintendo 64':'Nintendo 64', 'PlayStation':'PlayStation', 'PlayStation 3':'PlayStation 3', 'Dreamcast':'Dreamcast', 'Xbox 360':'Xbox 360',
                          'Wii':'Wii', 'Xbox One':'Xbox One', 'PC':'PC', 'Switch':'Nintendo Switch', 'PlayStation 2':'PlayStation 2',
                               'PlayStation 4':'PlayStation 4', 'GameCube':'GameCube', 'Xbox':'Xbox', 'Wii U':'Wii U', 'Game Boy Advance':'Game Boy Advance', '3DS':'Nintendo 3DS', 'Xbox Series X':'Xbox Series X', 'DS':'Nintendo DS', 
                                   'PlayStation Vita':'PlayStation Vita', 'PlayStation 5':'PlayStation 5', 'PSP':'PlayStation Portable', 'Stadia':'Google Stadia'}
    updated_df['platform'] = updated_df['platform'].replace(platform_mapping)
    return updated_df

def new_platform_column(updated_df_2):
    platform_mapping = {'Wii':'Wii', 'NES':'Nintendo NES', 'GB':'Gameboy', 'DS':'Nintendo DS', 'X360':'Xbox 360',
                          'PS3':'PlayStation 3', 'PS2':'PlayStation 2', 'GBA':'Gameboy Advance', 'SNES':'Nintendo Super NES', '3DS':'Nintendo 3DS',
                               'PS4':'PlayStation 4', 'N64':'Nintendo 64', 'PS':'PlayStation', 'XB':'Xbox', 'PC':'PC', '2600':'2600', 'PSP':'PlayStation Portable', 'XOne':'Xbox One', 'GC':'Game Cube', 'WiiU':'Wii U', 'GEN':'GEN',
                                   'DC':'Dreamcast', 'PSV':'PlayStation Vita', 'SAT':'Saturn', 'SCD':'SEGA CD', 'WS':'WonderSwan', 'NG':'Neo Geo', 'TG16':'TurboGrafx-16', '3DO':'3DO Interactive Multiplayer', 'GG':'SEGA Game Gear', 'PCFX':'PC-FX'}
    updated_df_2['platform'] = updated_df_2['platform'].replace(platform_mapping)
    return updated_df_2


display(new_platform_column(updated_df))


display(new_platform_column(updated_df_2))


# to check for NaN
updated_df_2.isna().sum()


updated_df.isna().sum()


dropped_na_tb_2_df = updated_df_2.dropna(subset=['year', 'jp_sales', 'eu_sales', 'other_sales', 'global_sales'])
display(dropped_na_tb_2_df)
# TO CHECK THIS AND WHY 0.0 STILL APPEAR


dropped_na_tb_2_df['year'].unique()


dropped_na_tb_2_df['year'] = dropped_na_tb_2_df['year'].astype(int)


display(dropped_na_tb_2_df)


# Perform the merge
#common_columns = ['name', 'platform']
#merged_df = pd.merge(updated_df, dropped_na_tb_2_df, on=common_columns, how='right')

# Display the merged dataframe
#display(merged_df)


merged_df = pd.merge(updated_df, dropped_na_tb_2_df, on=['name'], how='inner')
display(merged_df.head(20))


# Check for any missing values in the merged DataFrame
print(merged_df.isnull().sum())


# Check for any duplicate entries
duplicates = merged_df[merged_df.duplicated(subset=['name'], keep=False)]
display(duplicates)


# Filter the DataFrame to keep only rows where platform_x is equal to platform_y
# Remove leading and trailing spaces
merged_df['platform_x'] = merged_df['platform_x'].str.strip()
merged_df['platform_y'] = merged_df['platform_y'].str.strip()
# Convert both columns to lowercase
merged_df['platform_x'] = merged_df['platform_x'].str.lower()
merged_df['platform_y'] = merged_df['platform_y'].str.lower()
# Display unique values in each platform column
print(merged_df['platform_x'].unique())
print(merged_df['platform_y'].unique())
filtered_df = merged_df[merged_df['platform_x'] == merged_df['platform_y']]

# Display the filtered DataFrame
display(filtered_df)


#pd.set_option('display.max_rows', None)  # Show all rows


#pd.reset_option('display.max_rows')



