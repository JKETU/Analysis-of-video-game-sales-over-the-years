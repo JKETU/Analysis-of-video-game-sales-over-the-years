import pandas as pd
import numpy as np


df = pd.read_csv('../data/raw/all_games.csv')
df_2 = pd.read_csv('../data/raw/video_games_sales.csv')


display(df.head(2), df_2.head(2), df.info(), df_2.info(), df.nunique(), df_2.nunique())


# drop columns

def drop_columns_in_table_1(df):
    df = df.drop(columns=['summary'])
    return df

def drop_columns_in_table_2(df_2):
    df = df_2.drop(columns=['rank'])
    return df 


updated_df = drop_columns_in_table_1(df)
updated_df_2 = drop_columns_in_table_2(df_2)

display(updated_df, updated_df_2)


display(updated_df['platform'].unique())
display(updated_df_2['platform'].unique())


def new_platform_column(updated_df):
    platform_mapping = {'Nintendo 64':'Nintendo 64', 'PlayStation':'PlayStation', 'PlayStation 3':'PlayStation 3', 'Dreamcast':'Dreamcast', 'Xbox 360':'Xbox 360',
                          'Wii':'Wii', 'Xbox One':'Xbox One', 'PC':'PC', 'Switch':'Nintendo Switch', 'PlayStation 2':'PlayStation 2',
                               'PlayStation 4':'PlayStation 4', 'GameCube':'GameCube', 'Xbox':'Xbox', 'Wii U':'Wii U', 'Game Boy Advance':'Game Boy Advance', '3DS':'Nintendo 3DS', 'Xbox Series X':'Xbox Series X', 'DS':'Nintendo DS', 
                                   'PlayStation Vita':'PlayStation Vita', 'PlayStation 5':'PlayStation 5', 'PSP':'PlayStation Portable', 'Stadia':'Google Stadia'}
    updated_df['platform'] = updated_df['platform'].replace(platform_mapping)
    return updated_df

def new_platform_column(updated_df_2):
    platform_mapping = {'Wii':'Wii', 'NES':'Nintendo NES', 'GB':'Gameboy', 'DS':'Nintendo DS', 'X360':'Xbox 360',
                          'PS3':'PlayStation 3', 'PS2':'PlayStation 2', 'GBA':'Gameboy Advance', 'SNES':'Nintendo Super NES', '3DS':'Nintendo 3DS',
                               'PS4':'PlayStation 4', 'N64':'Nintendo 64', 'PS':'PlayStation', 'XB':'Xbox', 'PC':'PC', '2600':'2600', 'PSP':'PlayStation Portable', 'XOne':'Xbox One', 'GC':'Game Cube', 'WiiU':'Wii U', 'GEN':'GEN',
                                   'DC':'Dreamcast', 'PSV':'PlayStation Vita', 'SAT':'Saturn', 'SCD':'SEGA CD', 'WS':'WonderSwan', 'NG':'Neo Geo', 'TG16':'TurboGrafx-16', '3DO':'3DO Interactive Multiplayer', 'GG':'SEGA Game Gear', 'PCFX':'PC-FX'}
    updated_df_2['platform'] = updated_df_2['platform'].replace(platform_mapping)
    return updated_df_2


display(new_platform_column(updated_df))


display(new_platform_column(updated_df_2))


# to check for NaN
updated_df_2.isna().sum()


updated_df.isna().sum()


dropped_na_tb_2_df = updated_df_2.dropna(subset=['year', 'jp_sales', 'eu_sales', 'other_sales', 'global_sales'])
display(dropped_na_tb_2_df)
# TO CHECK THIS AND WHY 0.0 STILL APPEAR


dropped_na_tb_2_df['year'].unique()


dropped_na_tb_2_df['year'] = dropped_na_tb_2_df['year'].astype(int)


display(dropped_na_tb_2_df)


# Perform the merge
#common_columns = ['name', 'platform']
#merged_df = pd.merge(updated_df, dropped_na_tb_2_df, on=common_columns, how='right')

# Display the merged dataframe
#display(merged_df)


merged_df = pd.merge(updated_df, dropped_na_tb_2_df, on=['name'], how='inner')
display(merged_df.head(20))


# Check for any missing values in the merged DataFrame
print(merged_df.isnull().sum())


# Check for any duplicate entries
duplicates = merged_df[merged_df.duplicated(subset=['name'], keep=False)]
display(duplicates)


# Filter the DataFrame to keep only rows where platform_x is equal to platform_y
# Remove leading and trailing spaces
merged_df['platform_x'] = merged_df['platform_x'].str.strip()
merged_df['platform_y'] = merged_df['platform_y'].str.strip()
# Convert both columns to lowercase
merged_df['platform_x'] = merged_df['platform_x'].str.lower()
merged_df['platform_y'] = merged_df['platform_y'].str.lower()
# Display unique values in each platform column
print(merged_df['platform_x'].unique())
print(merged_df['platform_y'].unique())
filtered_df = merged_df[merged_df['platform_x'] == merged_df['platform_y']]

# Display the filtered DataFrame
display(filtered_df)


#pd.set_option('display.max_rows', None)  # Show all rows


#pd.reset_option('display.max_rows')


filtered_df.info()





# Convert the user_review column to float
filtered_df['user_review'] = filtered_df['user_review'].astype(float)








import plotly.express as px
import numpy as np





# Convert columns to integers/float
filtered_df['meta_score'] = pd.to_numeric(filtered_df['meta_score'], errors='coerce')
filtered_df['user_review'] = pd.to_numeric(filtered_df['user_review'], errors='coerce')

# Drop any rows with NaN values from the conversion
filtered_df = filtered_df.dropna(subset=['meta_score', 'user_review'])

# Calculate correlation
correlation = np.corrcoef(filtered_df['meta_score'], filtered_df['user_review'])[0, 1]
print(f"Correlation between Critic Scores and User Scores: {correlation:.2f}")

# Create scatter plot
fig = px.scatter(filtered_df, x='meta_score', y='user_review',
                 labels={'meta_score': 'Critic Score', 'user_review': 'User Score'},
                 title='Correlation Between Critic and User Scores')

fig.show()


# Pivot table for average critic and user scores by genre
pivot_genre_scores = filtered_df.pivot_table(values=['meta_score', 'user_review'],
                                             index='genre',
                                             aggfunc='mean').reset_index()

display(pivot_genre_scores)


# Pivot table for global sales by platform and year
pivot_sales = filtered_df.pivot_table(values='global_sales',
                                      index='platform_x',
                                      columns='year',
                                      aggfunc='sum').fillna(0)

display(pivot_sales)


# Calculate the average of critic and user scores
filtered_df['average_rating'] = (filtered_df['meta_score'] + filtered_df['user_review']) / 2

# Get top 10 games by average rating
top_10_games = filtered_df.nlargest(10, 'average_rating')

# Display top 10 games
top_10_games[['name', 'platform_x', 'average_rating']]


import plotly.express as px

# Create a bar chart for top 10 games by average rating
fig = px.bar(top_10_games, x='name', y='average_rating', color='platform_x', 
             title='Top 10 Games by Average Rating Across Platforms',
             labels={'name': 'Game Name', 'average_rating': 'Average Rating'},
             text='average_rating')

fig.update_traces(texttemplate='%{text:.2f}', textposition='outside')
fig.update_layout(xaxis={'categoryorder':'total descending'})
fig.show()


# Filter games with significant sales in North America
na_sales_filtered = filtered_df[filtered_df['na_sales'] > 1]  # Adjust the threshold as needed

# Calculate average ratings
na_sales_filtered['average_rating'] = (na_sales_filtered['meta_score'] + na_sales_filtered['user_review']) / 2

# Get top 10 games by average rating in North America
top_10_na_games = na_sales_filtered.nlargest(10, 'average_rating')

# Display top 10 games in North America
top_10_na_games[['name', 'platform_x', 'average_rating', 'na_sales']]


# Create a pie chart for top 10 games in North America by average rating
fig = px.pie(top_10_na_games, names='name', values='average_rating',
             title='Top 10 Games by Average Rating in North America',
             labels={'name': 'Game Name', 'average_rating': 'Average Rating'},
             hole=.3)

fig.update_traces(textinfo='percent+label')
fig.show()


# Pivot table for average critic and user scores by genre
pivot_genre_ratings = filtered_df.pivot_table(values=['meta_score', 'user_review'],
                                              index='genre',
                                              aggfunc='mean').reset_index()

# Calculate average rating
pivot_genre_ratings['average_rating'] = (pivot_genre_ratings['meta_score'] + pivot_genre_ratings['user_review']) / 2

# Get top 10 genres by average rating
top_10_genres = pivot_genre_ratings.nlargest(10, 'average_rating')

# Display top 10 genres
top_10_genres[['genre', 'average_rating']]


# horizontal bar chart for top 10 genres by average rating
fig = px.bar(top_10_genres, x='average_rating', y='genre', orientation='h', 
             title='Top 10 Genres by Average Rating',
             labels={'average_rating': 'Average Rating', 'genre': 'Genre'},
             text='average_rating')

fig.update_traces(texttemplate='%{text:.2f}', textposition='outside')
fig.show()


# Pivot table for average critic and user scores by platform
pivot_platform_ratings = filtered_df.pivot_table(values=['meta_score', 'user_review'],
                                                 index='platform_x',
                                                 aggfunc='mean').reset_index()

# Calculate average rating
pivot_platform_ratings['average_rating'] = (pivot_platform_ratings['meta_score'] + pivot_platform_ratings['user_review']) / 2

# Get top 10 platforms by average rating
top_10_platforms = pivot_platform_ratings.nlargest(10, 'average_rating')

# Display top 10 platforms
top_10_platforms[['platform_x', 'average_rating']]


# chart for top 10 platforms by average rating
fig = px.sunburst(top_10_platforms, path=['platform_x'], values='average_rating',
                  title='Top 10 Platforms by Average Rating',
                  labels={'platform_x': 'Platform', 'average_rating': 'Average Rating'})

fig.update_traces(textinfo='label+percent entry')
fig.show()






