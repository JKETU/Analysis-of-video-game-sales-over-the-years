{
 "cells": [
  {
   "cell_type": "code",
   "execution_count": 6,
   "id": "293db57e-0909-4d9d-84e5-f57651a5642f",
   "metadata": {
    "tags": []
   },
   "outputs": [
    {
     "data": {
      "text/html": [
       "<div>\n",
       "<style scoped>\n",
       "    .dataframe tbody tr th:only-of-type {\n",
       "        vertical-align: middle;\n",
       "    }\n",
       "\n",
       "    .dataframe tbody tr th {\n",
       "        vertical-align: top;\n",
       "    }\n",
       "\n",
       "    .dataframe thead th {\n",
       "        text-align: right;\n",
       "    }\n",
       "</style>\n",
       "<table border=\"1\" class=\"dataframe\">\n",
       "  <thead>\n",
       "    <tr style=\"text-align: right;\">\n",
       "      <th></th>\n",
       "      <th>name</th>\n",
       "      <th>platform</th>\n",
       "      <th>release_date</th>\n",
       "      <th>summary</th>\n",
       "      <th>meta_score</th>\n",
       "      <th>user_review</th>\n",
       "    </tr>\n",
       "  </thead>\n",
       "  <tbody>\n",
       "    <tr>\n",
       "      <th>0</th>\n",
       "      <td>The Legend of Zelda: Ocarina of Time</td>\n",
       "      <td>Nintendo 64</td>\n",
       "      <td>November 23, 1998</td>\n",
       "      <td>As a young boy, Link is tricked by Ganondorf, ...</td>\n",
       "      <td>99</td>\n",
       "      <td>9.1</td>\n",
       "    </tr>\n",
       "    <tr>\n",
       "      <th>1</th>\n",
       "      <td>Tony Hawk's Pro Skater 2</td>\n",
       "      <td>PlayStation</td>\n",
       "      <td>September 20, 2000</td>\n",
       "      <td>As most major publishers' development efforts ...</td>\n",
       "      <td>98</td>\n",
       "      <td>7.4</td>\n",
       "    </tr>\n",
       "    <tr>\n",
       "      <th>2</th>\n",
       "      <td>Grand Theft Auto IV</td>\n",
       "      <td>PlayStation 3</td>\n",
       "      <td>April 29, 2008</td>\n",
       "      <td>[Metacritic's 2008 PS3 Game of the Year; Also ...</td>\n",
       "      <td>98</td>\n",
       "      <td>7.7</td>\n",
       "    </tr>\n",
       "    <tr>\n",
       "      <th>3</th>\n",
       "      <td>SoulCalibur</td>\n",
       "      <td>Dreamcast</td>\n",
       "      <td>September 8, 1999</td>\n",
       "      <td>This is a tale of souls and swords, transcendi...</td>\n",
       "      <td>98</td>\n",
       "      <td>8.4</td>\n",
       "    </tr>\n",
       "    <tr>\n",
       "      <th>4</th>\n",
       "      <td>Grand Theft Auto IV</td>\n",
       "      <td>Xbox 360</td>\n",
       "      <td>April 29, 2008</td>\n",
       "      <td>[Metacritic's 2008 Xbox 360 Game of the Year; ...</td>\n",
       "      <td>98</td>\n",
       "      <td>7.9</td>\n",
       "    </tr>\n",
       "    <tr>\n",
       "      <th>...</th>\n",
       "      <td>...</td>\n",
       "      <td>...</td>\n",
       "      <td>...</td>\n",
       "      <td>...</td>\n",
       "      <td>...</td>\n",
       "      <td>...</td>\n",
       "    </tr>\n",
       "    <tr>\n",
       "      <th>18795</th>\n",
       "      <td>Fast &amp; Furious: Showdown</td>\n",
       "      <td>Xbox 360</td>\n",
       "      <td>May 21, 2013</td>\n",
       "      <td>Fast &amp; Furious: Showdown takes some of the fra...</td>\n",
       "      <td>22</td>\n",
       "      <td>1.3</td>\n",
       "    </tr>\n",
       "    <tr>\n",
       "      <th>18796</th>\n",
       "      <td>Drake of the 99 Dragons</td>\n",
       "      <td>Xbox</td>\n",
       "      <td>November 3, 2003</td>\n",
       "      <td>Drake is out for revenge in a supernatural Hon...</td>\n",
       "      <td>22</td>\n",
       "      <td>1.7</td>\n",
       "    </tr>\n",
       "    <tr>\n",
       "      <th>18797</th>\n",
       "      <td>Afro Samurai 2: Revenge of Kuma Volume One</td>\n",
       "      <td>PlayStation 4</td>\n",
       "      <td>September 22, 2015</td>\n",
       "      <td>Head out on a journey of redemption, driven by...</td>\n",
       "      <td>21</td>\n",
       "      <td>2.9</td>\n",
       "    </tr>\n",
       "    <tr>\n",
       "      <th>18798</th>\n",
       "      <td>Infestation: Survivor Stories (The War Z)</td>\n",
       "      <td>PC</td>\n",
       "      <td>October 15, 2012</td>\n",
       "      <td>(Formerly known as \"The War Z\") It has been 5 ...</td>\n",
       "      <td>20</td>\n",
       "      <td>1.7</td>\n",
       "    </tr>\n",
       "    <tr>\n",
       "      <th>18799</th>\n",
       "      <td>Leisure Suit Larry: Box Office Bust</td>\n",
       "      <td>PC</td>\n",
       "      <td>March 31, 2009</td>\n",
       "      <td>The Leisure Suit Larry: Box Office Bust video ...</td>\n",
       "      <td>20</td>\n",
       "      <td>2.0</td>\n",
       "    </tr>\n",
       "  </tbody>\n",
       "</table>\n",
       "<p>18800 rows × 6 columns</p>\n",
       "</div>"
      ],
      "text/plain": [
       "                                             name        platform  \\\n",
       "0            The Legend of Zelda: Ocarina of Time     Nintendo 64   \n",
       "1                        Tony Hawk's Pro Skater 2     PlayStation   \n",
       "2                             Grand Theft Auto IV   PlayStation 3   \n",
       "3                                     SoulCalibur       Dreamcast   \n",
       "4                             Grand Theft Auto IV        Xbox 360   \n",
       "...                                           ...             ...   \n",
       "18795                    Fast & Furious: Showdown        Xbox 360   \n",
       "18796                     Drake of the 99 Dragons            Xbox   \n",
       "18797  Afro Samurai 2: Revenge of Kuma Volume One   PlayStation 4   \n",
       "18798   Infestation: Survivor Stories (The War Z)              PC   \n",
       "18799         Leisure Suit Larry: Box Office Bust              PC   \n",
       "\n",
       "             release_date                                            summary  \\\n",
       "0       November 23, 1998  As a young boy, Link is tricked by Ganondorf, ...   \n",
       "1      September 20, 2000  As most major publishers' development efforts ...   \n",
       "2          April 29, 2008  [Metacritic's 2008 PS3 Game of the Year; Also ...   \n",
       "3       September 8, 1999  This is a tale of souls and swords, transcendi...   \n",
       "4          April 29, 2008  [Metacritic's 2008 Xbox 360 Game of the Year; ...   \n",
       "...                   ...                                                ...   \n",
       "18795        May 21, 2013  Fast & Furious: Showdown takes some of the fra...   \n",
       "18796    November 3, 2003  Drake is out for revenge in a supernatural Hon...   \n",
       "18797  September 22, 2015  Head out on a journey of redemption, driven by...   \n",
       "18798    October 15, 2012  (Formerly known as \"The War Z\") It has been 5 ...   \n",
       "18799      March 31, 2009  The Leisure Suit Larry: Box Office Bust video ...   \n",
       "\n",
       "       meta_score user_review  \n",
       "0              99         9.1  \n",
       "1              98         7.4  \n",
       "2              98         7.7  \n",
       "3              98         8.4  \n",
       "4              98         7.9  \n",
       "...           ...         ...  \n",
       "18795          22         1.3  \n",
       "18796          22         1.7  \n",
       "18797          21         2.9  \n",
       "18798          20         1.7  \n",
       "18799          20         2.0  \n",
       "\n",
       "[18800 rows x 6 columns]"
      ]
     },
     "execution_count": 6,
     "metadata": {},
     "output_type": "execute_result"
    }
   ],
   "source": [
    "import pandas as pd\n",
    "import numpy as np\n",
    "\n",
    "df = pd.read_csv('IRONHACK_CLASS/week3/project_work/video_game_analysis/Updated/video_game_analysis/data/raw/all_games.csv')\n",
    "\n",
    "df"
   ]
  },
  {
   "cell_type": "code",
   "execution_count": 7,
   "id": "61e1726d-dee0-4868-a974-fd58a7360ff4",
   "metadata": {
    "tags": []
   },
   "outputs": [
    {
     "data": {
      "text/plain": [
       "array([' Nintendo 64', ' PlayStation', ' PlayStation 3', ' Dreamcast',\n",
       "       ' Xbox 360', ' Wii', ' Xbox One', ' PC', ' Switch',\n",
       "       ' PlayStation 2', ' PlayStation 4', ' GameCube', ' Xbox', ' Wii U',\n",
       "       ' Game Boy Advance', ' 3DS', ' Xbox Series X', ' DS',\n",
       "       ' PlayStation Vita', ' PlayStation 5', ' PSP', ' Stadia'],\n",
       "      dtype=object)"
      ]
     },
     "metadata": {},
     "output_type": "display_data"
    }
   ],
   "source": [
    "display(df['platform'].unique())"
   ]
  },
  {
   "cell_type": "code",
   "execution_count": 15,
   "id": "8a21c0a7-65c9-4fc1-9061-242d683c83ac",
   "metadata": {
    "tags": []
   },
   "outputs": [
    {
     "name": "stdout",
     "output_type": "stream",
     "text": [
      "Unique names: ['The Legend of Zelda: Ocarina of Time' \"Tony Hawk's Pro Skater 2\"\n",
      " 'Grand Theft Auto IV' ... 'Drake of the 99 Dragons'\n",
      " 'Afro Samurai 2: Revenge of Kuma Volume One'\n",
      " 'Infestation: Survivor Stories (The War Z)']\n",
      "Total unique names: 12254\n"
     ]
    }
   ],
   "source": [
    "# Get the unique names\n",
    "unique_names = df['name'].unique()\n",
    "\n",
    "# Display the unique names\n",
    "print(f\"Unique names: {unique_names}\")\n",
    "print(f\"Total unique names: {len(unique_names)}\")\n"
   ]
  },
  {
   "cell_type": "code",
   "execution_count": 14,
   "id": "d3cf8aef-9856-4b8e-a31b-89730aadc9ef",
   "metadata": {
    "tags": []
   },
   "outputs": [
    {
     "data": {
      "text/plain": [
       "'Infestation: Survivor Stories (The War Z)'"
      ]
     },
     "metadata": {},
     "output_type": "display_data"
    }
   ],
   "source": [
    "display(df['name'].unique().all())"
   ]
  },
  {
   "cell_type": "code",
   "execution_count": 12,
   "id": "8c8054b6-6a31-46ed-a606-99948f3ea093",
   "metadata": {
    "tags": []
   },
   "outputs": [
    {
     "data": {
      "text/plain": [
       "'The Legend of Zelda: Ocarina of Time'"
      ]
     },
     "metadata": {},
     "output_type": "display_data"
    }
   ],
   "source": [
    "display(df['name'].unique().any())"
   ]
  },
  {
   "cell_type": "code",
   "execution_count": 16,
   "id": "409db87f-e36e-4a10-a3af-031607c1ead9",
   "metadata": {
    "tags": []
   },
   "outputs": [],
   "source": [
    "# Remove leading and trailing whitespaces\n",
    "df['name'] = df['name'].str.strip()\n",
    "df['platform'] = df['platform'].str.strip()\n"
   ]
  },
  {
   "cell_type": "code",
   "execution_count": 17,
   "id": "88127a18-3891-4801-b969-a7581d8ff15b",
   "metadata": {
    "tags": []
   },
   "outputs": [],
   "source": [
    "# Convert to lowercase\n",
    "df['name'] = df['name'].str.lower()\n",
    "df['platform'] = df['platform'].str.lower()\n"
   ]
  },
  {
   "cell_type": "code",
   "execution_count": 18,
   "id": "83a2b730-14f6-45f0-a669-2c85aa9f8173",
   "metadata": {
    "tags": []
   },
   "outputs": [],
   "source": [
    "# Remove special characters\n",
    "df['name'] = df['name'].str.replace(r'[^\\w\\s]', '', regex=True)\n",
    "df['platform'] = df['platform'].str.replace(r'[^\\w\\s]', '', regex=True)\n"
   ]
  },
  {
   "cell_type": "code",
   "execution_count": 19,
   "id": "7a2cad1e-13fb-48e1-ae74-143b9d77d4e2",
   "metadata": {
    "tags": []
   },
   "outputs": [
    {
     "name": "stdout",
     "output_type": "stream",
     "text": [
      "0\n",
      "0\n"
     ]
    }
   ],
   "source": [
    "\n",
    "# Check for missing values\n",
    "print(df['name'].isnull().sum())\n",
    "print(df['platform'].isnull().sum())\n",
    "\n",
    "# Fill missing values with a placeholder or drop the rows\n",
    "df['name'].fillna('unknown', inplace=True)\n",
    "df['platform'].fillna('unknown', inplace=True)\n"
   ]
  },
  {
   "cell_type": "code",
   "execution_count": 20,
   "id": "d45f97df-96a3-42c5-8aa4-288b8505821d",
   "metadata": {
    "tags": []
   },
   "outputs": [],
   "source": [
    "# Remove duplicate rows\n",
    "df.drop_duplicates(subset=['name', 'platform'], inplace=True)\n"
   ]
  },
  {
   "cell_type": "code",
   "execution_count": 22,
   "id": "4ee974ed-cfac-4c1c-8ab1-fa15e7c026e7",
   "metadata": {
    "tags": []
   },
   "outputs": [],
   "source": [
    "# Example of standardizing platform names\n",
    "df['platform'] = df['platform'].replace({\n",
    "    'Nintendo 64':'Nintendo 64', 'PlayStation':'PlayStation', 'PlayStation 3':'PlayStation 3', 'Dreamcast':'Dreamcast', 'Xbox 360':'Xbox 360',\n",
    "                          'Wii':'Wii', 'Xbox One':'Xbox One', 'PC':'PC', 'Switch':'Nintendo Switch', 'PlayStation 2':'PlayStation 2',\n",
    "                               'PlayStation 4':'PlayStation 4', 'GameCube':'GameCube', 'Xbox':'Xbox', 'Wii U':'Wii U', 'Game Boy Advance':'Game Boy Advance', '3DS':'Nintendo 3DS', 'Xbox Series X':'Xbox Series X', 'DS':'Nintendo DS', \n",
    "                                   'PlayStation Vita':'PlayStation Vita', 'PlayStation 5':'PlayStation 5', 'PSP':'PlayStation Portable', 'Stadia':'Google Stadia'\n",
    "    # Add more replacements as necessary\n",
    "})\n"
   ]
  },
  {
   "cell_type": "code",
   "execution_count": 23,
   "id": "1a1cebba-b043-47d4-95d4-3119bf94971d",
   "metadata": {
    "tags": []
   },
   "outputs": [
    {
     "data": {
      "text/plain": [
       "array(['9.1', '7.4', '7.7', '8.4', '7.9', '8.0', '8.3', '6.2', '8.7',\n",
       "       '7.5', '8.8', '8.5', '8.6', '8.9', '8.2', '9.2', '7.8', '9.0',\n",
       "       '9.3', '8.1', '6.8', '7.6', '6.9', '6.6', '7.3', '7.2', '9.4',\n",
       "       '5.7', '6.0', '5.8', '7.1', '3.3', '5.0', '5.5', '6.5', '5.9',\n",
       "       '6.7', '3.8', '6.4', '7.0', '6.3', '4.9', 'tbd', '5.3', '3.5',\n",
       "       '4.7', '6.1', '4.8', '4.1', '5.6', '4.4', '5.4', '4.6', '3.1',\n",
       "       '5.2', '4.3', '1.8', '4.5', '5.1', '4.2', '4.0', '9.7', '3.2',\n",
       "       '2.9', '2.1', '2.4', '3.4', '3.0', '3.7', '2.2', '2.6', '2.7',\n",
       "       '2.5', '2.8', '3.9', '2.0', '9.6', '1.5', '3.6', '1.4', '1.2',\n",
       "       '0.9', '1.9', '1.1', '1.7', '0.8', '1.0', '0.6', '2.3', '0.5',\n",
       "       '1.6', '0.2', '0.7', '1.3'], dtype=object)"
      ]
     },
     "metadata": {},
     "output_type": "display_data"
    }
   ],
   "source": [
    "display(df['user_review'].unique())"
   ]
  },
  {
   "cell_type": "code",
   "execution_count": 24,
   "id": "7c6d1f8a-1d7d-4c77-afa5-b5ed84171223",
   "metadata": {
    "tags": []
   },
   "outputs": [
    {
     "name": "stdout",
     "output_type": "stream",
     "text": [
      "<class 'pandas.core.frame.DataFrame'>\n",
      "Int64Index: 18686 entries, 0 to 18799\n",
      "Data columns (total 6 columns):\n",
      " #   Column        Non-Null Count  Dtype \n",
      "---  ------        --------------  ----- \n",
      " 0   name          18686 non-null  object\n",
      " 1   platform      18686 non-null  object\n",
      " 2   release_date  18686 non-null  object\n",
      " 3   summary       18572 non-null  object\n",
      " 4   meta_score    18686 non-null  int64 \n",
      " 5   user_review   18686 non-null  object\n",
      "dtypes: int64(1), object(5)\n",
      "memory usage: 1021.9+ KB\n"
     ]
    }
   ],
   "source": [
    "df.info()"
   ]
  },
  {
   "cell_type": "code",
   "execution_count": 25,
   "id": "40f3e938-dce5-4077-be3d-6a47ca0d4e3f",
   "metadata": {
    "tags": []
   },
   "outputs": [
    {
     "data": {
      "text/plain": [
       "name            object\n",
       "platform        object\n",
       "release_date    object\n",
       "summary         object\n",
       "meta_score       int64\n",
       "user_review     object\n",
       "dtype: object"
      ]
     },
     "execution_count": 25,
     "metadata": {},
     "output_type": "execute_result"
    }
   ],
   "source": [
    "df.dtypes"
   ]
  },
  {
   "cell_type": "code",
   "execution_count": 29,
   "id": "a93200c2-0df1-4c86-8f86-fc745f273a85",
   "metadata": {
    "tags": []
   },
   "outputs": [
    {
     "name": "stdout",
     "output_type": "stream",
     "text": [
      "                                  name       platform        release_date  \\\n",
      "0  the legend of zelda ocarina of time    nintendo 64   November 23, 1998   \n",
      "1              tony hawks pro skater 2    playstation  September 20, 2000   \n",
      "2                  grand theft auto iv  playstation 3      April 29, 2008   \n",
      "3                          soulcalibur      dreamcast   September 8, 1999   \n",
      "4                  grand theft auto iv       xbox 360      April 29, 2008   \n",
      "\n",
      "                                             summary  meta_score  user_review  \n",
      "0  As a young boy, Link is tricked by Ganondorf, ...          99          9.0  \n",
      "1  As most major publishers' development efforts ...          98          7.0  \n",
      "2  [Metacritic's 2008 PS3 Game of the Year; Also ...          98          7.0  \n",
      "3  This is a tale of souls and swords, transcendi...          98          8.0  \n",
      "4  [Metacritic's 2008 Xbox 360 Game of the Year; ...          98          7.0  \n",
      "float64\n"
     ]
    }
   ],
   "source": [
    "# Replace non-numeric values with NaN, then convert to numeric\n",
    "df['user_review'] = pd.to_numeric(df['user_review'], errors='coerce')\n",
    "\n",
    "# Handle missing values (optional, depending on your data)\n",
    "df['user_review'].fillna(0, inplace=True)  # Or use another value or method for filling NaNs\n",
    "\n",
    "# Convert the user_review column to float\n",
    "df['user_review'] = df['user_review'].astype(float)\n",
    "\n",
    "# Display the first few rows to confirm the change\n",
    "print(df.head())\n",
    "print(df['user_review'].dtype)  # Should print 'float64'\n"
   ]
  },
  {
   "cell_type": "code",
   "execution_count": 30,
   "id": "399ff73b-e711-473e-ae2a-88e987fab1ec",
   "metadata": {
    "tags": []
   },
   "outputs": [
    {
     "data": {
      "text/plain": [
       "name             object\n",
       "platform         object\n",
       "release_date     object\n",
       "summary          object\n",
       "meta_score        int64\n",
       "user_review     float64\n",
       "dtype: object"
      ]
     },
     "execution_count": 30,
     "metadata": {},
     "output_type": "execute_result"
    }
   ],
   "source": [
    "df.dtypes"
   ]
  },
  {
   "cell_type": "code",
   "execution_count": 31,
   "id": "7b30aea2-bb25-4203-b8a1-b465dfdacfae",
   "metadata": {
    "tags": []
   },
   "outputs": [
    {
     "data": {
      "text/html": [
       "<div>\n",
       "<style scoped>\n",
       "    .dataframe tbody tr th:only-of-type {\n",
       "        vertical-align: middle;\n",
       "    }\n",
       "\n",
       "    .dataframe tbody tr th {\n",
       "        vertical-align: top;\n",
       "    }\n",
       "\n",
       "    .dataframe thead th {\n",
       "        text-align: right;\n",
       "    }\n",
       "</style>\n",
       "<table border=\"1\" class=\"dataframe\">\n",
       "  <thead>\n",
       "    <tr style=\"text-align: right;\">\n",
       "      <th></th>\n",
       "      <th>name</th>\n",
       "      <th>platform</th>\n",
       "      <th>release_date</th>\n",
       "      <th>summary</th>\n",
       "      <th>meta_score</th>\n",
       "      <th>user_review</th>\n",
       "    </tr>\n",
       "  </thead>\n",
       "  <tbody>\n",
       "    <tr>\n",
       "      <th>0</th>\n",
       "      <td>the legend of zelda ocarina of time</td>\n",
       "      <td>nintendo 64</td>\n",
       "      <td>November 23, 1998</td>\n",
       "      <td>As a young boy, Link is tricked by Ganondorf, ...</td>\n",
       "      <td>99</td>\n",
       "      <td>9.0</td>\n",
       "    </tr>\n",
       "    <tr>\n",
       "      <th>1</th>\n",
       "      <td>tony hawks pro skater 2</td>\n",
       "      <td>playstation</td>\n",
       "      <td>September 20, 2000</td>\n",
       "      <td>As most major publishers' development efforts ...</td>\n",
       "      <td>98</td>\n",
       "      <td>7.0</td>\n",
       "    </tr>\n",
       "    <tr>\n",
       "      <th>2</th>\n",
       "      <td>grand theft auto iv</td>\n",
       "      <td>playstation 3</td>\n",
       "      <td>April 29, 2008</td>\n",
       "      <td>[Metacritic's 2008 PS3 Game of the Year; Also ...</td>\n",
       "      <td>98</td>\n",
       "      <td>7.0</td>\n",
       "    </tr>\n",
       "    <tr>\n",
       "      <th>3</th>\n",
       "      <td>soulcalibur</td>\n",
       "      <td>dreamcast</td>\n",
       "      <td>September 8, 1999</td>\n",
       "      <td>This is a tale of souls and swords, transcendi...</td>\n",
       "      <td>98</td>\n",
       "      <td>8.0</td>\n",
       "    </tr>\n",
       "    <tr>\n",
       "      <th>4</th>\n",
       "      <td>grand theft auto iv</td>\n",
       "      <td>xbox 360</td>\n",
       "      <td>April 29, 2008</td>\n",
       "      <td>[Metacritic's 2008 Xbox 360 Game of the Year; ...</td>\n",
       "      <td>98</td>\n",
       "      <td>7.0</td>\n",
       "    </tr>\n",
       "    <tr>\n",
       "      <th>...</th>\n",
       "      <td>...</td>\n",
       "      <td>...</td>\n",
       "      <td>...</td>\n",
       "      <td>...</td>\n",
       "      <td>...</td>\n",
       "      <td>...</td>\n",
       "    </tr>\n",
       "    <tr>\n",
       "      <th>18795</th>\n",
       "      <td>fast  furious showdown</td>\n",
       "      <td>xbox 360</td>\n",
       "      <td>May 21, 2013</td>\n",
       "      <td>Fast &amp; Furious: Showdown takes some of the fra...</td>\n",
       "      <td>22</td>\n",
       "      <td>1.0</td>\n",
       "    </tr>\n",
       "    <tr>\n",
       "      <th>18796</th>\n",
       "      <td>drake of the 99 dragons</td>\n",
       "      <td>xbox</td>\n",
       "      <td>November 3, 2003</td>\n",
       "      <td>Drake is out for revenge in a supernatural Hon...</td>\n",
       "      <td>22</td>\n",
       "      <td>1.0</td>\n",
       "    </tr>\n",
       "    <tr>\n",
       "      <th>18797</th>\n",
       "      <td>afro samurai 2 revenge of kuma volume one</td>\n",
       "      <td>playstation 4</td>\n",
       "      <td>September 22, 2015</td>\n",
       "      <td>Head out on a journey of redemption, driven by...</td>\n",
       "      <td>21</td>\n",
       "      <td>2.0</td>\n",
       "    </tr>\n",
       "    <tr>\n",
       "      <th>18798</th>\n",
       "      <td>infestation survivor stories the war z</td>\n",
       "      <td>pc</td>\n",
       "      <td>October 15, 2012</td>\n",
       "      <td>(Formerly known as \"The War Z\") It has been 5 ...</td>\n",
       "      <td>20</td>\n",
       "      <td>1.0</td>\n",
       "    </tr>\n",
       "    <tr>\n",
       "      <th>18799</th>\n",
       "      <td>leisure suit larry box office bust</td>\n",
       "      <td>pc</td>\n",
       "      <td>March 31, 2009</td>\n",
       "      <td>The Leisure Suit Larry: Box Office Bust video ...</td>\n",
       "      <td>20</td>\n",
       "      <td>2.0</td>\n",
       "    </tr>\n",
       "  </tbody>\n",
       "</table>\n",
       "<p>18686 rows × 6 columns</p>\n",
       "</div>"
      ],
      "text/plain": [
       "                                            name       platform  \\\n",
       "0            the legend of zelda ocarina of time    nintendo 64   \n",
       "1                        tony hawks pro skater 2    playstation   \n",
       "2                            grand theft auto iv  playstation 3   \n",
       "3                                    soulcalibur      dreamcast   \n",
       "4                            grand theft auto iv       xbox 360   \n",
       "...                                          ...            ...   \n",
       "18795                     fast  furious showdown       xbox 360   \n",
       "18796                    drake of the 99 dragons           xbox   \n",
       "18797  afro samurai 2 revenge of kuma volume one  playstation 4   \n",
       "18798     infestation survivor stories the war z             pc   \n",
       "18799         leisure suit larry box office bust             pc   \n",
       "\n",
       "             release_date                                            summary  \\\n",
       "0       November 23, 1998  As a young boy, Link is tricked by Ganondorf, ...   \n",
       "1      September 20, 2000  As most major publishers' development efforts ...   \n",
       "2          April 29, 2008  [Metacritic's 2008 PS3 Game of the Year; Also ...   \n",
       "3       September 8, 1999  This is a tale of souls and swords, transcendi...   \n",
       "4          April 29, 2008  [Metacritic's 2008 Xbox 360 Game of the Year; ...   \n",
       "...                   ...                                                ...   \n",
       "18795        May 21, 2013  Fast & Furious: Showdown takes some of the fra...   \n",
       "18796    November 3, 2003  Drake is out for revenge in a supernatural Hon...   \n",
       "18797  September 22, 2015  Head out on a journey of redemption, driven by...   \n",
       "18798    October 15, 2012  (Formerly known as \"The War Z\") It has been 5 ...   \n",
       "18799      March 31, 2009  The Leisure Suit Larry: Box Office Bust video ...   \n",
       "\n",
       "       meta_score  user_review  \n",
       "0              99          9.0  \n",
       "1              98          7.0  \n",
       "2              98          7.0  \n",
       "3              98          8.0  \n",
       "4              98          7.0  \n",
       "...           ...          ...  \n",
       "18795          22          1.0  \n",
       "18796          22          1.0  \n",
       "18797          21          2.0  \n",
       "18798          20          1.0  \n",
       "18799          20          2.0  \n",
       "\n",
       "[18686 rows x 6 columns]"
      ]
     },
     "execution_count": 31,
     "metadata": {},
     "output_type": "execute_result"
    }
   ],
   "source": [
    "df"
   ]
  },
  {
   "cell_type": "code",
   "execution_count": 32,
   "id": "1934ea3a-f275-4325-8abe-94e832ce87e6",
   "metadata": {
    "tags": []
   },
   "outputs": [],
   "source": [
    "clean_df = df"
   ]
  },
  {
   "cell_type": "code",
   "execution_count": 33,
   "id": "0172eb15-a6a5-4bde-bc06-1257f8d54e2a",
   "metadata": {
    "tags": []
   },
   "outputs": [
    {
     "data": {
      "text/html": [
       "<div>\n",
       "<style scoped>\n",
       "    .dataframe tbody tr th:only-of-type {\n",
       "        vertical-align: middle;\n",
       "    }\n",
       "\n",
       "    .dataframe tbody tr th {\n",
       "        vertical-align: top;\n",
       "    }\n",
       "\n",
       "    .dataframe thead th {\n",
       "        text-align: right;\n",
       "    }\n",
       "</style>\n",
       "<table border=\"1\" class=\"dataframe\">\n",
       "  <thead>\n",
       "    <tr style=\"text-align: right;\">\n",
       "      <th></th>\n",
       "      <th>name</th>\n",
       "      <th>platform</th>\n",
       "      <th>release_date</th>\n",
       "      <th>summary</th>\n",
       "      <th>meta_score</th>\n",
       "      <th>user_review</th>\n",
       "    </tr>\n",
       "  </thead>\n",
       "  <tbody>\n",
       "    <tr>\n",
       "      <th>0</th>\n",
       "      <td>the legend of zelda ocarina of time</td>\n",
       "      <td>nintendo 64</td>\n",
       "      <td>November 23, 1998</td>\n",
       "      <td>As a young boy, Link is tricked by Ganondorf, ...</td>\n",
       "      <td>99</td>\n",
       "      <td>9.0</td>\n",
       "    </tr>\n",
       "    <tr>\n",
       "      <th>1</th>\n",
       "      <td>tony hawks pro skater 2</td>\n",
       "      <td>playstation</td>\n",
       "      <td>September 20, 2000</td>\n",
       "      <td>As most major publishers' development efforts ...</td>\n",
       "      <td>98</td>\n",
       "      <td>7.0</td>\n",
       "    </tr>\n",
       "    <tr>\n",
       "      <th>2</th>\n",
       "      <td>grand theft auto iv</td>\n",
       "      <td>playstation 3</td>\n",
       "      <td>April 29, 2008</td>\n",
       "      <td>[Metacritic's 2008 PS3 Game of the Year; Also ...</td>\n",
       "      <td>98</td>\n",
       "      <td>7.0</td>\n",
       "    </tr>\n",
       "    <tr>\n",
       "      <th>3</th>\n",
       "      <td>soulcalibur</td>\n",
       "      <td>dreamcast</td>\n",
       "      <td>September 8, 1999</td>\n",
       "      <td>This is a tale of souls and swords, transcendi...</td>\n",
       "      <td>98</td>\n",
       "      <td>8.0</td>\n",
       "    </tr>\n",
       "    <tr>\n",
       "      <th>4</th>\n",
       "      <td>grand theft auto iv</td>\n",
       "      <td>xbox 360</td>\n",
       "      <td>April 29, 2008</td>\n",
       "      <td>[Metacritic's 2008 Xbox 360 Game of the Year; ...</td>\n",
       "      <td>98</td>\n",
       "      <td>7.0</td>\n",
       "    </tr>\n",
       "    <tr>\n",
       "      <th>...</th>\n",
       "      <td>...</td>\n",
       "      <td>...</td>\n",
       "      <td>...</td>\n",
       "      <td>...</td>\n",
       "      <td>...</td>\n",
       "      <td>...</td>\n",
       "    </tr>\n",
       "    <tr>\n",
       "      <th>18795</th>\n",
       "      <td>fast  furious showdown</td>\n",
       "      <td>xbox 360</td>\n",
       "      <td>May 21, 2013</td>\n",
       "      <td>Fast &amp; Furious: Showdown takes some of the fra...</td>\n",
       "      <td>22</td>\n",
       "      <td>1.0</td>\n",
       "    </tr>\n",
       "    <tr>\n",
       "      <th>18796</th>\n",
       "      <td>drake of the 99 dragons</td>\n",
       "      <td>xbox</td>\n",
       "      <td>November 3, 2003</td>\n",
       "      <td>Drake is out for revenge in a supernatural Hon...</td>\n",
       "      <td>22</td>\n",
       "      <td>1.0</td>\n",
       "    </tr>\n",
       "    <tr>\n",
       "      <th>18797</th>\n",
       "      <td>afro samurai 2 revenge of kuma volume one</td>\n",
       "      <td>playstation 4</td>\n",
       "      <td>September 22, 2015</td>\n",
       "      <td>Head out on a journey of redemption, driven by...</td>\n",
       "      <td>21</td>\n",
       "      <td>2.0</td>\n",
       "    </tr>\n",
       "    <tr>\n",
       "      <th>18798</th>\n",
       "      <td>infestation survivor stories the war z</td>\n",
       "      <td>pc</td>\n",
       "      <td>October 15, 2012</td>\n",
       "      <td>(Formerly known as \"The War Z\") It has been 5 ...</td>\n",
       "      <td>20</td>\n",
       "      <td>1.0</td>\n",
       "    </tr>\n",
       "    <tr>\n",
       "      <th>18799</th>\n",
       "      <td>leisure suit larry box office bust</td>\n",
       "      <td>pc</td>\n",
       "      <td>March 31, 2009</td>\n",
       "      <td>The Leisure Suit Larry: Box Office Bust video ...</td>\n",
       "      <td>20</td>\n",
       "      <td>2.0</td>\n",
       "    </tr>\n",
       "  </tbody>\n",
       "</table>\n",
       "<p>18686 rows × 6 columns</p>\n",
       "</div>"
      ],
      "text/plain": [
       "                                            name       platform  \\\n",
       "0            the legend of zelda ocarina of time    nintendo 64   \n",
       "1                        tony hawks pro skater 2    playstation   \n",
       "2                            grand theft auto iv  playstation 3   \n",
       "3                                    soulcalibur      dreamcast   \n",
       "4                            grand theft auto iv       xbox 360   \n",
       "...                                          ...            ...   \n",
       "18795                     fast  furious showdown       xbox 360   \n",
       "18796                    drake of the 99 dragons           xbox   \n",
       "18797  afro samurai 2 revenge of kuma volume one  playstation 4   \n",
       "18798     infestation survivor stories the war z             pc   \n",
       "18799         leisure suit larry box office bust             pc   \n",
       "\n",
       "             release_date                                            summary  \\\n",
       "0       November 23, 1998  As a young boy, Link is tricked by Ganondorf, ...   \n",
       "1      September 20, 2000  As most major publishers' development efforts ...   \n",
       "2          April 29, 2008  [Metacritic's 2008 PS3 Game of the Year; Also ...   \n",
       "3       September 8, 1999  This is a tale of souls and swords, transcendi...   \n",
       "4          April 29, 2008  [Metacritic's 2008 Xbox 360 Game of the Year; ...   \n",
       "...                   ...                                                ...   \n",
       "18795        May 21, 2013  Fast & Furious: Showdown takes some of the fra...   \n",
       "18796    November 3, 2003  Drake is out for revenge in a supernatural Hon...   \n",
       "18797  September 22, 2015  Head out on a journey of redemption, driven by...   \n",
       "18798    October 15, 2012  (Formerly known as \"The War Z\") It has been 5 ...   \n",
       "18799      March 31, 2009  The Leisure Suit Larry: Box Office Bust video ...   \n",
       "\n",
       "       meta_score  user_review  \n",
       "0              99          9.0  \n",
       "1              98          7.0  \n",
       "2              98          7.0  \n",
       "3              98          8.0  \n",
       "4              98          7.0  \n",
       "...           ...          ...  \n",
       "18795          22          1.0  \n",
       "18796          22          1.0  \n",
       "18797          21          2.0  \n",
       "18798          20          1.0  \n",
       "18799          20          2.0  \n",
       "\n",
       "[18686 rows x 6 columns]"
      ]
     },
     "execution_count": 33,
     "metadata": {},
     "output_type": "execute_result"
    }
   ],
   "source": [
    "clean_df"
   ]
  },
  {
   "cell_type": "code",
   "execution_count": null,
   "id": "c75bdc40-7452-40e8-977b-0f516606bb5e",
   "metadata": {},
   "outputs": [],
   "source": []
  }
 ],
 "metadata": {
  "kernelspec": {
   "display_name": "venv",
   "language": "python",
   "name": "venv"
  },
  "language_info": {
   "codemirror_mode": {
    "name": "ipython",
    "version": 3
   },
   "file_extension": ".py",
   "mimetype": "text/x-python",
   "name": "python",
   "nbconvert_exporter": "python",
   "pygments_lexer": "ipython3",
   "version": "3.11.3"
  }
 },
 "nbformat": 4,
 "nbformat_minor": 5
}
